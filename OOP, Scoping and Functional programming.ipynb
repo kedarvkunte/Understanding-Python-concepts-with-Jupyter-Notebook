{
 "cells": [
  {
   "cell_type": "markdown",
   "metadata": {},
   "source": [
    "# Scoping"
   ]
  },
  {
   "cell_type": "code",
   "execution_count": null,
   "metadata": {},
   "outputs": [
    {
     "name": "stdout",
     "output_type": "stream",
     "text": [
      "this is a global\n"
     ]
    }
   ],
   "source": [
    "global_variable = \"this is a global\"\n",
    "\n",
    "def my_fun(x):\n",
    "    local_variable = \"this is a local\"\n",
    "    print(global_variable)\n",
    "    return\n",
    "\n",
    "my_fun(1)\n",
    "#print(local_variable)"
   ]
  },
  {
   "cell_type": "markdown",
   "metadata": {},
   "source": [
    "# Importing Modules"
   ]
  },
  {
   "cell_type": "code",
   "execution_count": 2,
   "metadata": {},
   "outputs": [
    {
     "name": "stdout",
     "output_type": "stream",
     "text": [
      "1.6094379124341003\n"
     ]
    }
   ],
   "source": [
    "import math\n",
    "print(math.log(5))"
   ]
  },
  {
   "cell_type": "code",
   "execution_count": 3,
   "metadata": {},
   "outputs": [
    {
     "name": "stdout",
     "output_type": "stream",
     "text": [
      "1.6094379124341003\n"
     ]
    }
   ],
   "source": [
    "import math as m\n",
    "print(m.log(5))"
   ]
  },
  {
   "cell_type": "code",
   "execution_count": 5,
   "metadata": {},
   "outputs": [
    {
     "name": "stdout",
     "output_type": "stream",
     "text": [
      "1.6094379124341003\n",
      "3.141592653589793\n"
     ]
    }
   ],
   "source": [
    "from math import log, exp , pi\n",
    "print(log(5))\n",
    "print(pi)"
   ]
  },
  {
   "cell_type": "markdown",
   "metadata": {},
   "source": [
    "# Classes"
   ]
  },
  {
   "cell_type": "code",
   "execution_count": 7,
   "metadata": {
    "collapsed": true
   },
   "outputs": [],
   "source": [
    "import random\n",
    "\n",
    "class Dog:\n",
    "        \n",
    "    def __init__(self,name):\n",
    "        self.name = name\n",
    "        self.tricks = []\n",
    "        \n",
    "    def bark(self):\n",
    "        print(\"%s barks!\"%self.name)\n",
    "        return self.name\n",
    "        \n",
    "    def teach_trick(self,trick):\n",
    "        self.tricks.append(trick)\n",
    "        \n",
    "    def do_trick(self):\n",
    "        if self.tricks == []:\n",
    "            print(\"%s doesn't know any tricks :(\"%self.name)\n",
    "        else:\n",
    "            trick_idx = random.randint(0,len(self.tricks)-1)\n",
    "            print(\"%s does trick: %s\"%(self.name,self.tricks[trick_idx]))"
   ]
  },
  {
   "cell_type": "code",
   "execution_count": 13,
   "metadata": {},
   "outputs": [
    {
     "name": "stdout",
     "output_type": "stream",
     "text": [
      "Kevin barks!\n",
      "Rose barks!\n"
     ]
    },
    {
     "data": {
      "text/plain": [
       "'Rose'"
      ]
     },
     "execution_count": 13,
     "metadata": {},
     "output_type": "execute_result"
    }
   ],
   "source": [
    "\n",
    "\n",
    "# Create two Dog instances\n",
    "dog1 = Dog(\"Kevin\")\n",
    "dog2 = Dog(\"Rose\")\n",
    "\n",
    "# Barking dogs\n",
    "dog1.bark()\n",
    "dog2.bark()"
   ]
  },
  {
   "cell_type": "code",
   "execution_count": 14,
   "metadata": {},
   "outputs": [
    {
     "name": "stdout",
     "output_type": "stream",
     "text": [
      "Kevin doesn't know any tricks :(\n"
     ]
    }
   ],
   "source": [
    "# Try to get Kevin to do a trick\n",
    "dog1.do_trick()"
   ]
  },
  {
   "cell_type": "code",
   "execution_count": 15,
   "metadata": {},
   "outputs": [
    {
     "name": "stdout",
     "output_type": "stream",
     "text": [
      "Kevin does trick: roll over\n",
      "Rose doesn't know any tricks :(\n"
     ]
    }
   ],
   "source": [
    "# Teach kevin some tricks\n",
    "dog1.teach_trick(\"roll over\")\n",
    "dog1.teach_trick(\"play dead\")\n",
    "\n",
    "# Try to get both dogs to do tricks\n",
    "dog1.do_trick()\n",
    "dog2.do_trick()"
   ]
  },
  {
   "cell_type": "markdown",
   "metadata": {},
   "source": [
    "# Functional Programming in Python"
   ]
  },
  {
   "cell_type": "code",
   "execution_count": 6,
   "metadata": {},
   "outputs": [
    {
     "name": "stdout",
     "output_type": "stream",
     "text": [
      "list1: [0, 1, 2, 3, 4, 5, 6, 7, 8, 9]\n",
      "list2: [0, 2, 4, 6, 8, 10, 12, 14, 16, 18]\n"
     ]
    }
   ],
   "source": [
    "list1 = list(range(10))\n",
    "\n",
    "# List Comprehension\n",
    "list2 = [2*i for i in list1]\n",
    "\n",
    "print(\"list1:\",list1)\n",
    "print(\"list2:\",list2)"
   ]
  },
  {
   "cell_type": "code",
   "execution_count": 7,
   "metadata": {},
   "outputs": [
    {
     "name": "stdout",
     "output_type": "stream",
     "text": [
      "list3: [0, 2, 4, 6, 8, 10, 12, 14, 16, 18]\n"
     ]
    }
   ],
   "source": [
    "# Map\n",
    "def double(x): return 2*x\n",
    "\n",
    "list3 = list(map(double, list1))\n",
    "print(\"list3:\", list3)"
   ]
  },
  {
   "cell_type": "markdown",
   "metadata": {},
   "source": [
    "# Rounding"
   ]
  },
  {
   "cell_type": "markdown",
   "metadata": {},
   "source": [
    "### Underflow"
   ]
  },
  {
   "cell_type": "code",
   "execution_count": 8,
   "metadata": {},
   "outputs": [
    {
     "name": "stdout",
     "output_type": "stream",
     "text": [
      "i = 1075\n",
      "a = 0.0\n"
     ]
    }
   ],
   "source": [
    "a = 1.0\n",
    "i = 0\n",
    "while a > 0.0:\n",
    "    a = a / 2.0\n",
    "    i += 1\n",
    "    \n",
    "print(\"i =\",i)\n",
    "print(\"a =\",a)"
   ]
  },
  {
   "cell_type": "markdown",
   "metadata": {},
   "source": [
    "### Overflow"
   ]
  },
  {
   "cell_type": "code",
   "execution_count": 9,
   "metadata": {},
   "outputs": [
    {
     "name": "stdout",
     "output_type": "stream",
     "text": [
      "i = 1024\n",
      "a = inf\n"
     ]
    }
   ],
   "source": [
    "a = 1.0\n",
    "b = 0.5\n",
    "i = 0\n",
    "while b == a/2.0:\n",
    "    b = a\n",
    "    a = a * 2\n",
    "    i += 1\n",
    "    \n",
    "print(\"i =\",i)\n",
    "print(\"a =\",a)"
   ]
  },
  {
   "cell_type": "code",
   "execution_count": null,
   "metadata": {
    "collapsed": true
   },
   "outputs": [],
   "source": []
  },
  {
   "cell_type": "markdown",
   "metadata": {},
   "source": [
    "### Representability"
   ]
  },
  {
   "cell_type": "code",
   "execution_count": 12,
   "metadata": {},
   "outputs": [
    {
     "name": "stdout",
     "output_type": "stream",
     "text": [
      "a = 0.10000000000000001\n",
      "a = 0.20000000000000001\n",
      "a = 0.30000000000000004\n",
      "a = 0.40000000000000002\n",
      "a = 0.5\n",
      "a = 0.59999999999999998\n",
      "a = 0.69999999999999996\n",
      "a = 0.79999999999999993\n",
      "a = 0.89999999999999991\n",
      "a = 0.99999999999999989\n",
      "a = 1.0999999999999999\n",
      "a = 1.2\n",
      "a = 1.3\n",
      "a = 1.4000000000000001\n",
      "a = 1.5000000000000002\n",
      "a = 1.6000000000000003\n",
      "a = 1.7000000000000004\n",
      "a = 1.8000000000000005\n",
      "a = 1.9000000000000006\n",
      "a = 2.0000000000000004\n",
      "a = 2.1000000000000005\n",
      "a = 2.2000000000000006\n",
      "a = 2.3000000000000007\n",
      "a = 2.4000000000000008\n",
      "a = 2.5000000000000009\n",
      "a = 2.600000000000001\n",
      "a = 2.7000000000000011\n",
      "a = 2.8000000000000012\n",
      "a = 2.9000000000000012\n",
      "a = 3.0000000000000013\n",
      "a = 3.1000000000000014\n",
      "a = 3.2000000000000015\n",
      "a = 3.3000000000000016\n",
      "a = 3.4000000000000017\n",
      "a = 3.5000000000000018\n",
      "a = 3.6000000000000019\n",
      "a = 3.700000000000002\n",
      "a = 3.800000000000002\n",
      "a = 3.9000000000000021\n",
      "a = 4.0000000000000018\n",
      "a = 4.1000000000000014\n",
      "a = 4.2000000000000011\n",
      "a = 4.3000000000000007\n",
      "a = 4.4000000000000004\n",
      "a = 4.5\n",
      "a = 4.5999999999999996\n",
      "a = 4.6999999999999993\n",
      "a = 4.7999999999999989\n",
      "a = 4.8999999999999986\n",
      "a = 4.9999999999999982\n",
      "a = 5.0999999999999979\n"
     ]
    }
   ],
   "source": [
    "a = 0.0\n",
    "while (a != 1.0) and (a < 5):\n",
    "    a += 0.1\n",
    "    print(\"a = %.17g\"%a)"
   ]
  },
  {
   "cell_type": "code",
   "execution_count": 13,
   "metadata": {},
   "outputs": [
    {
     "name": "stdout",
     "output_type": "stream",
     "text": [
      "b = 0.10000000000000001\n",
      "b = 0.20000000000000001\n",
      "b = 0.30000000000000004\n",
      "b = 0.40000000000000002\n",
      "b = 0.5\n",
      "b = 0.60000000000000009\n",
      "b = 0.70000000000000007\n",
      "b = 0.80000000000000004\n",
      "b = 0.90000000000000002\n",
      "b = 1\n"
     ]
    }
   ],
   "source": [
    "for i in range(1,11):\n",
    "    b = i*0.1\n",
    "    print(\"b = %.17g\"%b)"
   ]
  },
  {
   "cell_type": "code",
   "execution_count": 14,
   "metadata": {},
   "outputs": [
    {
     "name": "stdout",
     "output_type": "stream",
     "text": [
      "a == 1: False\n",
      "isclose(a,1): True\n"
     ]
    }
   ],
   "source": [
    "# tests whether the abolute difference between\n",
    "# two numbers, x and y, is less than some \n",
    "# tolerance, epsilon.\n",
    "def isclose(x,y,epsilon=10e-8):\n",
    "    return abs(x-y) < epsilon\n",
    "\n",
    "a = 0.0\n",
    "for i in range(10): a += 0.1\n",
    "    \n",
    "print(\"a == 1:\", a==1.0)\n",
    "print(\"isclose(a,1):\", isclose(a,1.0))"
   ]
  },
  {
   "cell_type": "code",
   "execution_count": 10,
   "metadata": {},
   "outputs": [
    {
     "name": "stdout",
     "output_type": "stream",
     "text": [
      "hijklm\n",
      "hij\n"
     ]
    }
   ],
   "source": [
    "string1 = \"hij\"\n",
    "string2 = string1\n",
    "string1 += \"klm\"\n",
    "print(string1)\n",
    "print(string2)"
   ]
  },
  {
   "cell_type": "code",
   "execution_count": 11,
   "metadata": {},
   "outputs": [
    {
     "name": "stdout",
     "output_type": "stream",
     "text": [
      "3\n"
     ]
    }
   ],
   "source": [
    "print(3)"
   ]
  },
  {
   "cell_type": "code",
   "execution_count": 12,
   "metadata": {},
   "outputs": [
    {
     "name": "stdout",
     "output_type": "stream",
     "text": [
      "False\n"
     ]
    }
   ],
   "source": [
    "x = 6.0*0.1\n",
    "y = 0.6\n",
    "print(x == y)"
   ]
  },
  {
   "cell_type": "code",
   "execution_count": 13,
   "metadata": {},
   "outputs": [
    {
     "ename": "OverflowError",
     "evalue": "math range error",
     "output_type": "error",
     "traceback": [
      "\u001b[1;31m---------------------------------------------------------------------------\u001b[0m",
      "\u001b[1;31mOverflowError\u001b[0m                             Traceback (most recent call last)",
      "\u001b[1;32m<ipython-input-13-43d2a58bc921>\u001b[0m in \u001b[0;36m<module>\u001b[1;34m()\u001b[0m\n\u001b[0;32m      1\u001b[0m \u001b[1;32mfrom\u001b[0m \u001b[0mmath\u001b[0m \u001b[1;32mimport\u001b[0m \u001b[0mlog\u001b[0m\u001b[1;33m,\u001b[0m\u001b[0mexp\u001b[0m\u001b[1;33m\u001b[0m\u001b[0m\n\u001b[1;32m----> 2\u001b[1;33m \u001b[0mx\u001b[0m \u001b[1;33m=\u001b[0m \u001b[0mlog\u001b[0m\u001b[1;33m(\u001b[0m\u001b[0mexp\u001b[0m\u001b[1;33m(\u001b[0m\u001b[1;36m800\u001b[0m\u001b[1;33m)\u001b[0m\u001b[1;33m)\u001b[0m\u001b[1;33m\u001b[0m\u001b[0m\n\u001b[0m\u001b[0;32m      3\u001b[0m \u001b[0mprint\u001b[0m\u001b[1;33m(\u001b[0m\u001b[0mx\u001b[0m \u001b[1;33m==\u001b[0m \u001b[1;36m800\u001b[0m\u001b[1;33m)\u001b[0m\u001b[1;33m\u001b[0m\u001b[0m\n",
      "\u001b[1;31mOverflowError\u001b[0m: math range error"
     ]
    }
   ],
   "source": [
    "from math import log,exp\n",
    "x = log(exp(800))\n",
    "print(x == 800)"
   ]
  },
  {
   "cell_type": "code",
   "execution_count": 14,
   "metadata": {},
   "outputs": [
    {
     "ename": "ValueError",
     "evalue": "math domain error",
     "output_type": "error",
     "traceback": [
      "\u001b[1;31m---------------------------------------------------------------------------\u001b[0m",
      "\u001b[1;31mValueError\u001b[0m                                Traceback (most recent call last)",
      "\u001b[1;32m<ipython-input-14-e74414db160e>\u001b[0m in \u001b[0;36m<module>\u001b[1;34m()\u001b[0m\n\u001b[0;32m      1\u001b[0m \u001b[1;32mfrom\u001b[0m \u001b[0mmath\u001b[0m \u001b[1;32mimport\u001b[0m \u001b[0mlog\u001b[0m\u001b[1;33m,\u001b[0m\u001b[0mexp\u001b[0m\u001b[1;33m\u001b[0m\u001b[0m\n\u001b[1;32m----> 2\u001b[1;33m \u001b[0mx\u001b[0m \u001b[1;33m=\u001b[0m \u001b[0mlog\u001b[0m\u001b[1;33m(\u001b[0m\u001b[0mexp\u001b[0m\u001b[1;33m(\u001b[0m\u001b[1;33m-\u001b[0m\u001b[1;36m800\u001b[0m\u001b[1;33m)\u001b[0m\u001b[1;33m)\u001b[0m\u001b[1;33m\u001b[0m\u001b[0m\n\u001b[0m\u001b[0;32m      3\u001b[0m \u001b[0mprint\u001b[0m\u001b[1;33m(\u001b[0m\u001b[0mx\u001b[0m \u001b[1;33m==\u001b[0m \u001b[1;33m-\u001b[0m\u001b[1;36m800\u001b[0m\u001b[1;33m)\u001b[0m\u001b[1;33m\u001b[0m\u001b[0m\n",
      "\u001b[1;31mValueError\u001b[0m: math domain error"
     ]
    }
   ],
   "source": [
    "from math import log,exp\n",
    "x = log(exp(-800))\n",
    "print(x == -800)"
   ]
  },
  {
   "cell_type": "code",
   "execution_count": 15,
   "metadata": {
    "collapsed": true
   },
   "outputs": [],
   "source": [
    "x = exp(-800)"
   ]
  },
  {
   "cell_type": "code",
   "execution_count": 16,
   "metadata": {},
   "outputs": [
    {
     "name": "stdout",
     "output_type": "stream",
     "text": [
      "0.0\n"
     ]
    }
   ],
   "source": [
    "print(x)"
   ]
  },
  {
   "cell_type": "code",
   "execution_count": 17,
   "metadata": {},
   "outputs": [
    {
     "name": "stdout",
     "output_type": "stream",
     "text": [
      "Darius\n",
      "Darius\n"
     ]
    }
   ],
   "source": [
    "class Person:\n",
    "    def __init__(self,name):\n",
    "        self.name = name\n",
    "    def rename(self,new_name):\n",
    "        self.name = new_name\n",
    "    def say_name(self):\n",
    "        print(self.name)\n",
    "\n",
    "person1 = Person(\"Joe\")\n",
    "person2 = person1\n",
    "person1.rename(\"Darius\")\n",
    "person1.say_name()\n",
    "person2.say_name()"
   ]
  },
  {
   "cell_type": "code",
   "execution_count": 18,
   "metadata": {
    "collapsed": true
   },
   "outputs": [],
   "source": [
    "class Course:\n",
    "    roster = []\n",
    "    \n",
    "    def __init__(self,course_number):\n",
    "        self.course_number = course_number\n",
    "        \n",
    "    def get_course_number(self):\n",
    "        return self.course_number\n",
    "    \n",
    "    def add_student(self,student_name):\n",
    "        self.roster.append(student_name)\n",
    "        \n",
    "    def drop_student(self,student_name):\n",
    "        if(student_name in self.roster):\n",
    "            self.roster.remove(student_name)\n",
    "        \n",
    "    def get_roster(self):\n",
    "        return self.roster.sort()\n",
    "    \n",
    "  "
   ]
  },
  {
   "cell_type": "code",
   "execution_count": 2,
   "metadata": {
    "collapsed": true
   },
   "outputs": [],
   "source": [
    "course1 = Course(590)"
   ]
  },
  {
   "cell_type": "code",
   "execution_count": 20,
   "metadata": {},
   "outputs": [
    {
     "name": "stdout",
     "output_type": "stream",
     "text": [
      "None\n",
      "None\n"
     ]
    }
   ],
   "source": [
    "# create course1\n",
    "course1 = Course(590)\n",
    "# create course2\n",
    "course2 = Course(231)\n",
    "\n",
    "# add 'Roy' to course1\n",
    "course1.add_student(\"Roy\")\n",
    "# add 'Joe' to course2\n",
    "course2.add_student(\"Joe\")\n",
    "\n",
    "print(course1.get_roster())\n",
    "print(course2.get_roster())\n"
   ]
  },
  {
   "cell_type": "code",
   "execution_count": 21,
   "metadata": {},
   "outputs": [
    {
     "data": {
      "text/plain": [
       "['a', 'Andrew', 'from', 'is', 'string', 'test', 'This']"
      ]
     },
     "execution_count": 21,
     "metadata": {},
     "output_type": "execute_result"
    }
   ],
   "source": [
    "sorted(\"This is a test string from Andrew\".split(), key=str.lower)\n",
    "['a', 'Andrew', 'from', 'is', 'string', 'test', 'This']"
   ]
  },
  {
   "cell_type": "code",
   "execution_count": null,
   "metadata": {
    "collapsed": true
   },
   "outputs": [],
   "source": []
  },
  {
   "cell_type": "code",
   "execution_count": 3,
   "metadata": {
    "collapsed": true
   },
   "outputs": [],
   "source": [
    "course_number = course1.get_course_number()"
   ]
  },
  {
   "cell_type": "code",
   "execution_count": 5,
   "metadata": {},
   "outputs": [
    {
     "name": "stdout",
     "output_type": "stream",
     "text": [
      "590\n"
     ]
    }
   ],
   "source": [
    "print(course_number)"
   ]
  },
  {
   "cell_type": "code",
   "execution_count": 6,
   "metadata": {},
   "outputs": [
    {
     "ename": "TypeError",
     "evalue": "'builtin_function_or_method' object is not subscriptable",
     "output_type": "error",
     "traceback": [
      "\u001b[1;31m---------------------------------------------------------------------------\u001b[0m",
      "\u001b[1;31mTypeError\u001b[0m                                 Traceback (most recent call last)",
      "\u001b[1;32m<ipython-input-6-2c24cbbad109>\u001b[0m in \u001b[0;36m<module>\u001b[1;34m()\u001b[0m\n\u001b[1;32m----> 1\u001b[1;33m \u001b[0mcourse1\u001b[0m\u001b[1;33m.\u001b[0m\u001b[0madd_student\u001b[0m\u001b[1;33m(\u001b[0m\u001b[1;34m\"Kedar\"\u001b[0m\u001b[1;33m)\u001b[0m\u001b[1;33m\u001b[0m\u001b[0m\n\u001b[0m",
      "\u001b[1;32m<ipython-input-1-ae2529fec9bd>\u001b[0m in \u001b[0;36madd_student\u001b[1;34m(self, student_name)\u001b[0m\n\u001b[0;32m      9\u001b[0m \u001b[1;33m\u001b[0m\u001b[0m\n\u001b[0;32m     10\u001b[0m     \u001b[1;32mdef\u001b[0m \u001b[0madd_student\u001b[0m\u001b[1;33m(\u001b[0m\u001b[0mself\u001b[0m\u001b[1;33m,\u001b[0m\u001b[0mstudent_name\u001b[0m\u001b[1;33m)\u001b[0m\u001b[1;33m:\u001b[0m\u001b[1;33m\u001b[0m\u001b[0m\n\u001b[1;32m---> 11\u001b[1;33m         \u001b[0mself\u001b[0m\u001b[1;33m.\u001b[0m\u001b[0mroster\u001b[0m\u001b[1;33m.\u001b[0m\u001b[0mappend\u001b[0m\u001b[1;33m[\u001b[0m\u001b[0mstudent_name\u001b[0m\u001b[1;33m]\u001b[0m\u001b[1;33m\u001b[0m\u001b[0m\n\u001b[0m\u001b[0;32m     12\u001b[0m \u001b[1;33m\u001b[0m\u001b[0m\n\u001b[0;32m     13\u001b[0m     \u001b[1;32mdef\u001b[0m \u001b[0mdrop_student\u001b[0m\u001b[1;33m(\u001b[0m\u001b[0mself\u001b[0m\u001b[1;33m,\u001b[0m\u001b[0mstudent_name\u001b[0m\u001b[1;33m)\u001b[0m\u001b[1;33m:\u001b[0m\u001b[1;33m\u001b[0m\u001b[0m\n",
      "\u001b[1;31mTypeError\u001b[0m: 'builtin_function_or_method' object is not subscriptable"
     ]
    }
   ],
   "source": [
    "course1.add_student(\"Kedar\")"
   ]
  },
  {
   "cell_type": "code",
   "execution_count": null,
   "metadata": {
    "collapsed": true
   },
   "outputs": [],
   "source": []
  },
  {
   "cell_type": "code",
   "execution_count": null,
   "metadata": {
    "collapsed": true
   },
   "outputs": [],
   "source": []
  },
  {
   "cell_type": "code",
   "execution_count": null,
   "metadata": {
    "collapsed": true
   },
   "outputs": [],
   "source": []
  },
  {
   "cell_type": "code",
   "execution_count": 18,
   "metadata": {},
   "outputs": [
    {
     "name": "stdout",
     "output_type": "stream",
     "text": [
      "[2.0, 3, 4, 5.0, 9.9, 'abc']\n",
      "[3, 4, 5.0, 9.9, 'abc']\n",
      "[4, 5.0, 9.9, 'abc']\n",
      "[5.0, 9.9, 'abc']\n",
      "[9.9, 'abc']\n",
      "['abc']\n",
      "[]\n"
     ]
    }
   ],
   "source": [
    "a = [1, 2.0, 3, 4, 5.0, 9.9, \"abc\"]\n",
    "\n",
    "while a != []:\n",
    "    a = a[1:]\n",
    "    print(a)"
   ]
  },
  {
   "cell_type": "code",
   "execution_count": null,
   "metadata": {
    "collapsed": true
   },
   "outputs": [],
   "source": []
  },
  {
   "cell_type": "code",
   "execution_count": null,
   "metadata": {
    "collapsed": true
   },
   "outputs": [],
   "source": []
  },
  {
   "cell_type": "code",
   "execution_count": null,
   "metadata": {
    "collapsed": true
   },
   "outputs": [],
   "source": []
  },
  {
   "cell_type": "code",
   "execution_count": null,
   "metadata": {
    "collapsed": true
   },
   "outputs": [],
   "source": []
  },
  {
   "cell_type": "code",
   "execution_count": null,
   "metadata": {
    "collapsed": true
   },
   "outputs": [],
   "source": []
  },
  {
   "cell_type": "code",
   "execution_count": null,
   "metadata": {
    "collapsed": true
   },
   "outputs": [],
   "source": []
  },
  {
   "cell_type": "code",
   "execution_count": null,
   "metadata": {
    "collapsed": true
   },
   "outputs": [],
   "source": []
  },
  {
   "cell_type": "code",
   "execution_count": 23,
   "metadata": {},
   "outputs": [
    {
     "data": {
      "text/plain": [
       "False"
      ]
     },
     "execution_count": 23,
     "metadata": {},
     "output_type": "execute_result"
    }
   ],
   "source": [
    "isinstance(2.000000000000000000000000,int)"
   ]
  },
  {
   "cell_type": "code",
   "execution_count": 24,
   "metadata": {},
   "outputs": [
    {
     "name": "stdout",
     "output_type": "stream",
     "text": [
      "[2.0, 5.0, 9.9, 'abc']\n"
     ]
    }
   ],
   "source": [
    "a = [1, 2.0, 3, 4, 5.0, 9.9, \"abc\"]\n",
    "b = []\n",
    "while a != []:\n",
    "    if type(a[0]) is not int:\n",
    "        b.append(a[0])\n",
    "    a = a[1:]\n",
    "print(b)"
   ]
  },
  {
   "cell_type": "code",
   "execution_count": null,
   "metadata": {
    "collapsed": true
   },
   "outputs": [],
   "source": [
    "3\n"
   ]
  },
  {
   "cell_type": "code",
   "execution_count": null,
   "metadata": {
    "collapsed": true
   },
   "outputs": [],
   "source": [
    "4"
   ]
  },
  {
   "cell_type": "code",
   "execution_count": null,
   "metadata": {
    "collapsed": true
   },
   "outputs": [],
   "source": []
  }
 ],
 "metadata": {
  "kernelspec": {
   "display_name": "Python 2",
   "language": "python",
   "name": "python2"
  },
  "language_info": {
   "codemirror_mode": {
    "name": "ipython",
    "version": 2
   },
   "file_extension": ".py",
   "mimetype": "text/x-python",
   "name": "python",
   "nbconvert_exporter": "python",
   "pygments_lexer": "ipython2",
   "version": "2.7.13"
  }
 },
 "nbformat": 4,
 "nbformat_minor": 1
}
